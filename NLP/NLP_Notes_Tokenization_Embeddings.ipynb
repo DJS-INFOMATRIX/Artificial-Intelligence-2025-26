{
  "cells": [
    {
      "cell_type": "markdown",
      "id": "fdc847bf",
      "metadata": {
        "id": "fdc847bf"
      },
      "source": [
        "# 🌐 NLP Notes: Tokenization & Embeddings\n",
        "Comprehensive notes combining theory and code examples for understanding tokenization and embeddings in NLP."
      ]
    },
    {
      "cell_type": "markdown",
      "id": "82cca623",
      "metadata": {
        "id": "82cca623"
      },
      "source": [
        "## 2.5 Core NLP Concepts & Tokenization\n",
        "### 🧩 Text Preprocessing\n",
        "Text preprocessing prepares raw text for modeling by cleaning and structuring it. Common steps include:\n",
        "- **Lowercasing:** Convert all text to lowercase for uniformity.\n",
        "- **Removing punctuation and special characters.**\n",
        "- **Stop Word Removal:** Removes commonly used words like 'the', 'is', 'and' that carry little meaning.\n",
        "- **Stemming:** Reduces words to their root form by chopping off suffixes (e.g., *running → run*).\n",
        "- **Lemmatization:** Converts a word to its meaningful base form (lemma) using linguistic context (e.g., *better → good*)."
      ]
    },
    {
      "cell_type": "code",
      "execution_count": null,
      "id": "e8cc0399",
      "metadata": {
        "id": "e8cc0399"
      },
      "outputs": [],
      "source": [
        "import nltk\n",
        "import re\n",
        "\n",
        "nltk.download('punkt')\n",
        "nltk.download('wordnet')\n",
        "nltk.download('stopwords')\n",
        "nltk.download('punkt_tab')"
      ]
    },
    {
      "cell_type": "markdown",
      "source": [
        "re.sub(pattern, replacement, string)"
      ],
      "metadata": {
        "id": "WEtY-ibSUDIr"
      },
      "id": "WEtY-ibSUDIr"
    },
    {
      "cell_type": "code",
      "source": [
        "text = \"Serverless computing allows developers to run code without managing servers, automatically handling scaling and infrastructure. It lets you focus purely on writing functions while the cloud provider manages everything else behind the scenes.\"\n",
        "\n",
        "# Lowercase and remove punctuation\n",
        "text_clean = re.sub(r'[^a-zA-Z ]', '', text.lower())\n",
        "text_clean"
      ],
      "metadata": {
        "id": "A5SDWjt8kA2S",
        "colab": {
          "base_uri": "https://localhost:8080/",
          "height": 53
        },
        "outputId": "e7817c13-fac6-495b-d963-167ab1a722af"
      },
      "id": "A5SDWjt8kA2S",
      "execution_count": null,
      "outputs": [
        {
          "output_type": "execute_result",
          "data": {
            "text/plain": [
              "'serverless computing allows developers to run code without managing servers automatically handling scaling and infrastructure it lets you focus purely on writing functions while the cloud provider manages everything else behind the scenes'"
            ],
            "application/vnd.google.colaboratory.intrinsic+json": {
              "type": "string"
            }
          },
          "metadata": {},
          "execution_count": 74
        }
      ]
    },
    {
      "cell_type": "code",
      "source": [
        "# Tokenization\n",
        "tokens = nltk.word_tokenize(text_clean)\n",
        "tokens"
      ],
      "metadata": {
        "colab": {
          "base_uri": "https://localhost:8080/"
        },
        "id": "6aI041PJkELx",
        "outputId": "9ddd86dd-8185-46a1-94c5-69bd872c96aa"
      },
      "id": "6aI041PJkELx",
      "execution_count": null,
      "outputs": [
        {
          "output_type": "execute_result",
          "data": {
            "text/plain": [
              "['serverless',\n",
              " 'computing',\n",
              " 'allows',\n",
              " 'developers',\n",
              " 'to',\n",
              " 'run',\n",
              " 'code',\n",
              " 'without',\n",
              " 'managing',\n",
              " 'servers',\n",
              " 'automatically',\n",
              " 'handling',\n",
              " 'scaling',\n",
              " 'and',\n",
              " 'infrastructure',\n",
              " 'it',\n",
              " 'lets',\n",
              " 'you',\n",
              " 'focus',\n",
              " 'purely',\n",
              " 'on',\n",
              " 'writing',\n",
              " 'functions',\n",
              " 'while',\n",
              " 'the',\n",
              " 'cloud',\n",
              " 'provider',\n",
              " 'manages',\n",
              " 'everything',\n",
              " 'else',\n",
              " 'behind',\n",
              " 'the',\n",
              " 'scenes']"
            ]
          },
          "metadata": {},
          "execution_count": 75
        }
      ]
    },
    {
      "cell_type": "code",
      "source": [
        "# Stopword removal\n",
        "from nltk.corpus import stopwords\n",
        "stop_words = set(stopwords.words('english'))\n",
        "tokens_nostop = []\n",
        "for w in tokens:\n",
        "  if w not in stop_words:\n",
        "    tokens_nostop.append(w)\n",
        "tokens_nostop"
      ],
      "metadata": {
        "colab": {
          "base_uri": "https://localhost:8080/"
        },
        "id": "3e1fBWYukGSy",
        "outputId": "ad8925cc-adc5-4614-db8d-886c3a918521"
      },
      "id": "3e1fBWYukGSy",
      "execution_count": null,
      "outputs": [
        {
          "output_type": "execute_result",
          "data": {
            "text/plain": [
              "['serverless',\n",
              " 'computing',\n",
              " 'allows',\n",
              " 'developers',\n",
              " 'run',\n",
              " 'code',\n",
              " 'without',\n",
              " 'managing',\n",
              " 'servers',\n",
              " 'automatically',\n",
              " 'handling',\n",
              " 'scaling',\n",
              " 'infrastructure',\n",
              " 'lets',\n",
              " 'focus',\n",
              " 'purely',\n",
              " 'writing',\n",
              " 'functions',\n",
              " 'cloud',\n",
              " 'provider',\n",
              " 'manages',\n",
              " 'everything',\n",
              " 'else',\n",
              " 'behind',\n",
              " 'scenes']"
            ]
          },
          "metadata": {},
          "execution_count": 76
        }
      ]
    },
    {
      "cell_type": "code",
      "source": [
        "# Stemming\n",
        "from nltk.stem import PorterStemmer\n",
        "stemmer = PorterStemmer()\n",
        "stems = []\n",
        "for w in tokens_nostop:\n",
        "  stems.append(stemmer.stem(w))\n",
        "stems"
      ],
      "metadata": {
        "colab": {
          "base_uri": "https://localhost:8080/"
        },
        "id": "0G5B_nedkH2Z",
        "outputId": "f0f7edfe-2d9d-4c4a-f1de-e5f30e1a1e89"
      },
      "id": "0G5B_nedkH2Z",
      "execution_count": null,
      "outputs": [
        {
          "output_type": "execute_result",
          "data": {
            "text/plain": [
              "['serverless',\n",
              " 'comput',\n",
              " 'allow',\n",
              " 'develop',\n",
              " 'run',\n",
              " 'code',\n",
              " 'without',\n",
              " 'manag',\n",
              " 'server',\n",
              " 'automat',\n",
              " 'handl',\n",
              " 'scale',\n",
              " 'infrastructur',\n",
              " 'let',\n",
              " 'focu',\n",
              " 'pure',\n",
              " 'write',\n",
              " 'function',\n",
              " 'cloud',\n",
              " 'provid',\n",
              " 'manag',\n",
              " 'everyth',\n",
              " 'els',\n",
              " 'behind',\n",
              " 'scene']"
            ]
          },
          "metadata": {},
          "execution_count": 77
        }
      ]
    },
    {
      "cell_type": "code",
      "source": [
        "#Lemmatization\n",
        "from nltk.stem import WordNetLemmatizer\n",
        "lemmatizer = WordNetLemmatizer()\n",
        "lemmas = []\n",
        "for w in tokens_nostop:\n",
        "  lemmas.append(lemmatizer.lemmatize(w))\n",
        "lemmas"
      ],
      "metadata": {
        "colab": {
          "base_uri": "https://localhost:8080/"
        },
        "id": "IXWIgVfRkQJZ",
        "outputId": "47efe1e7-7542-45a0-9222-799008468a77"
      },
      "id": "IXWIgVfRkQJZ",
      "execution_count": null,
      "outputs": [
        {
          "output_type": "execute_result",
          "data": {
            "text/plain": [
              "['serverless',\n",
              " 'computing',\n",
              " 'allows',\n",
              " 'developer',\n",
              " 'run',\n",
              " 'code',\n",
              " 'without',\n",
              " 'managing',\n",
              " 'server',\n",
              " 'automatically',\n",
              " 'handling',\n",
              " 'scaling',\n",
              " 'infrastructure',\n",
              " 'let',\n",
              " 'focus',\n",
              " 'purely',\n",
              " 'writing',\n",
              " 'function',\n",
              " 'cloud',\n",
              " 'provider',\n",
              " 'manages',\n",
              " 'everything',\n",
              " 'else',\n",
              " 'behind',\n",
              " 'scene']"
            ]
          },
          "metadata": {},
          "execution_count": 78
        }
      ]
    },
    {
      "cell_type": "code",
      "source": [
        "print('Original:', tokens)\n",
        "print('Without Stopwords:', tokens_nostop)\n",
        "print('Stemmed:', stems)\n",
        "print('Lemmatized:', lemmas)"
      ],
      "metadata": {
        "colab": {
          "base_uri": "https://localhost:8080/"
        },
        "id": "redIXp8MkRPR",
        "outputId": "c43d747d-718a-4e0b-ec12-e5d3332bc569"
      },
      "id": "redIXp8MkRPR",
      "execution_count": null,
      "outputs": [
        {
          "output_type": "stream",
          "name": "stdout",
          "text": [
            "Original: ['serverless', 'computing', 'allows', 'developers', 'to', 'run', 'code', 'without', 'managing', 'servers', 'automatically', 'handling', 'scaling', 'and', 'infrastructure', 'it', 'lets', 'you', 'focus', 'purely', 'on', 'writing', 'functions', 'while', 'the', 'cloud', 'provider', 'manages', 'everything', 'else', 'behind', 'the', 'scenes']\n",
            "Without Stopwords: ['serverless', 'computing', 'allows', 'developers', 'run', 'code', 'without', 'managing', 'servers', 'automatically', 'handling', 'scaling', 'infrastructure', 'lets', 'focus', 'purely', 'writing', 'functions', 'cloud', 'provider', 'manages', 'everything', 'else', 'behind', 'scenes']\n",
            "Stemmed: ['serverless', 'comput', 'allow', 'develop', 'run', 'code', 'without', 'manag', 'server', 'automat', 'handl', 'scale', 'infrastructur', 'let', 'focu', 'pure', 'write', 'function', 'cloud', 'provid', 'manag', 'everyth', 'els', 'behind', 'scene']\n",
            "Lemmatized: ['serverless', 'computing', 'allows', 'developer', 'run', 'code', 'without', 'managing', 'server', 'automatically', 'handling', 'scaling', 'infrastructure', 'let', 'focus', 'purely', 'writing', 'function', 'cloud', 'provider', 'manages', 'everything', 'else', 'behind', 'scene']\n"
          ]
        }
      ]
    },
    {
      "cell_type": "markdown",
      "id": "0d9944a4",
      "metadata": {
        "id": "0d9944a4"
      },
      "source": [
        "### ✂️ Tokenization\n",
        "Tokenization splits text into smaller units (tokens) like words or subwords.\n",
        "Transformers use **subword tokenization** to handle unknown words and reduce vocabulary size.\n",
        "\n",
        "**Types:**\n",
        "- **Word-level:** Splits by spaces.\n",
        "- **Subword-level:** Breaks rare words into frequent subwords (e.g., *unhappiness → un + happiness*).\n",
        "- **Character-level:** Splits every character."
      ]
    },
    {
      "cell_type": "code",
      "execution_count": null,
      "id": "82c31517",
      "metadata": {
        "id": "82c31517"
      },
      "outputs": [],
      "source": [
        "from transformers import GPT2Tokenizer, GPT2Model\n",
        "import torch\n",
        "\n",
        "tokenizer = GPT2Tokenizer.from_pretrained('gpt2')\n",
        "model = GPT2Model.from_pretrained('gpt2')\n",
        "text = \"Transformers are revolutionizing natural language processing!\"\n",
        "\n",
        "tokens = tokenizer.tokenize(text)\n",
        "ids = tokenizer.convert_tokens_to_ids(tokens)\n"
      ]
    },
    {
      "cell_type": "code",
      "source": [
        "print(\"Tokens:\", tokens)\n",
        "print(\"Token IDs:\", ids)\n",
        "print(\"Decoded:\", tokenizer.decode(ids))\n"
      ],
      "metadata": {
        "colab": {
          "base_uri": "https://localhost:8080/"
        },
        "id": "MTl28TrjtgfG",
        "outputId": "47b66faa-eb5f-4fbb-f123-9629241d50fb"
      },
      "id": "MTl28TrjtgfG",
      "execution_count": null,
      "outputs": [
        {
          "output_type": "stream",
          "name": "stdout",
          "text": [
            "Tokens: ['Transform', 'ers', 'Ġare', 'Ġrevolution', 'izing', 'Ġnatural', 'Ġlanguage', 'Ġprocessing', '!']\n",
            "Token IDs: [41762, 364, 389, 5854, 2890, 3288, 3303, 7587, 0]\n",
            "Decoded: Transformers are revolutionizing natural language processing!\n"
          ]
        }
      ]
    },
    {
      "cell_type": "code",
      "source": [
        "embeddings = model.get_input_embeddings()(torch.tensor([ids]))\n",
        "\n",
        "print(\"\\nEmbeddings:\", embeddings)\n",
        "print(\"\\nEmbeddings shape:\", embeddings.shape)"
      ],
      "metadata": {
        "colab": {
          "base_uri": "https://localhost:8080/"
        },
        "id": "reLzIlrDtiLf",
        "outputId": "d577d251-9526-4342-86d2-9a0fba539551"
      },
      "id": "reLzIlrDtiLf",
      "execution_count": null,
      "outputs": [
        {
          "output_type": "stream",
          "name": "stdout",
          "text": [
            "\n",
            "Embeddings: tensor([[[-0.0224, -0.0096,  0.2098,  ..., -0.1047,  0.1069,  0.0804],\n",
            "         [-0.1837, -0.1653,  0.1088,  ..., -0.0195,  0.0016, -0.0625],\n",
            "         [ 0.0756,  0.0559,  0.0481,  ...,  0.0595, -0.0550,  0.0846],\n",
            "         ...,\n",
            "         [-0.0991, -0.0051,  0.0735,  ...,  0.1375,  0.2273, -0.0890],\n",
            "         [ 0.0484,  0.0041, -0.0085,  ...,  0.1293,  0.0389,  0.0108],\n",
            "         [-0.1101, -0.0393,  0.0331,  ..., -0.1364,  0.0151,  0.0453]]],\n",
            "       grad_fn=<EmbeddingBackward0>)\n",
            "\n",
            "Embeddings shape: torch.Size([1, 9, 768])\n"
          ]
        }
      ]
    },
    {
      "cell_type": "markdown",
      "id": "5068e12e",
      "metadata": {
        "id": "5068e12e"
      },
      "source": [
        "### 🧠 Understanding Input to LLMs\n",
        "- **Tokens:** Basic input units of text after tokenization.\n",
        "- **Vocabulary Size:** Number of unique tokens known to the model (e.g., GPT-2 has ~50k tokens).\n",
        "- **Max Length:** The maximum number of tokens the model can process at once (e.g., 1024 for GPT-2).\n",
        "\n",
        "Each input sentence is converted into token IDs, padded/truncated to a fixed length before feeding into the model."
      ]
    },
    {
      "cell_type": "markdown",
      "id": "e7209da6",
      "metadata": {
        "id": "e7209da6"
      },
      "source": [
        "### 🧭 Positional Encoding in Transformers\n",
        "Transformers have no built-in notion of word order, so **positional encoding** adds order information to token embeddings.\n",
        "\n",
        "The positional encoding vector is added to the input embedding at each position. It uses sine and cosine functions:\n",
        "$PE_{(pos, 2i)} = sin(pos / 10000^{2i/d_{model}})$\n",
        "$PE_{(pos, 2i+1)} = cos(pos / 10000^{2i/d_{model}})$\n"
      ]
    },
    {
      "cell_type": "code",
      "execution_count": null,
      "id": "d2d46ea2",
      "metadata": {
        "colab": {
          "base_uri": "https://localhost:8080/"
        },
        "id": "d2d46ea2",
        "outputId": "abe1bd9a-83a4-4078-e459-ee5968003f8d"
      },
      "outputs": [
        {
          "output_type": "stream",
          "name": "stdout",
          "text": [
            "Positional Encoding for a sequence of length 10:\n",
            "[[ 0.00000000e+00  1.00000000e+00  0.00000000e+00  1.00000000e+00\n",
            "   0.00000000e+00  1.00000000e+00  0.00000000e+00  1.00000000e+00\n",
            "   0.00000000e+00  1.00000000e+00  0.00000000e+00  1.00000000e+00\n",
            "   0.00000000e+00  1.00000000e+00  0.00000000e+00  1.00000000e+00]\n",
            " [ 8.41470985e-01  5.40302306e-01  9.98334166e-02  9.95004165e-01\n",
            "   9.99983333e-03  9.99950000e-01  9.99999833e-04  9.99999500e-01\n",
            "   9.99999998e-05  9.99999995e-01  1.00000000e-05  1.00000000e+00\n",
            "   1.00000000e-06  1.00000000e+00  1.00000000e-07  1.00000000e+00]\n",
            " [ 9.09297427e-01 -4.16146837e-01  1.98669331e-01  9.80066578e-01\n",
            "   1.99986667e-02  9.99800007e-01  1.99999867e-03  9.99998000e-01\n",
            "   1.99999999e-04  9.99999980e-01  2.00000000e-05  1.00000000e+00\n",
            "   2.00000000e-06  1.00000000e+00  2.00000000e-07  1.00000000e+00]\n",
            " [ 1.41120008e-01 -9.89992497e-01  2.95520207e-01  9.55336489e-01\n",
            "   2.99955002e-02  9.99550034e-01  2.99999550e-03  9.99995500e-01\n",
            "   2.99999995e-04  9.99999955e-01  3.00000000e-05  1.00000000e+00\n",
            "   3.00000000e-06  1.00000000e+00  3.00000000e-07  1.00000000e+00]\n",
            " [-7.56802495e-01 -6.53643621e-01  3.89418342e-01  9.21060994e-01\n",
            "   3.99893342e-02  9.99200107e-01  3.99998933e-03  9.99992000e-01\n",
            "   3.99999989e-04  9.99999920e-01  4.00000000e-05  9.99999999e-01\n",
            "   4.00000000e-06  1.00000000e+00  4.00000000e-07  1.00000000e+00]\n",
            " [-9.58924275e-01  2.83662185e-01  4.79425539e-01  8.77582562e-01\n",
            "   4.99791693e-02  9.98750260e-01  4.99997917e-03  9.99987500e-01\n",
            "   4.99999979e-04  9.99999875e-01  5.00000000e-05  9.99999999e-01\n",
            "   5.00000000e-06  1.00000000e+00  5.00000000e-07  1.00000000e+00]\n",
            " [-2.79415498e-01  9.60170287e-01  5.64642473e-01  8.25335615e-01\n",
            "   5.99640065e-02  9.98200540e-01  5.99996400e-03  9.99982000e-01\n",
            "   5.99999964e-04  9.99999820e-01  6.00000000e-05  9.99999998e-01\n",
            "   6.00000000e-06  1.00000000e+00  6.00000000e-07  1.00000000e+00]\n",
            " [ 6.56986599e-01  7.53902254e-01  6.44217687e-01  7.64842187e-01\n",
            "   6.99428473e-02  9.97551000e-01  6.99994283e-03  9.99975500e-01\n",
            "   6.99999943e-04  9.99999755e-01  6.99999999e-05  9.99999998e-01\n",
            "   7.00000000e-06  1.00000000e+00  7.00000000e-07  1.00000000e+00]\n",
            " [ 9.89358247e-01 -1.45500034e-01  7.17356091e-01  6.96706709e-01\n",
            "   7.99146940e-02  9.96801706e-01  7.99991467e-03  9.99968000e-01\n",
            "   7.99999915e-04  9.99999680e-01  7.99999999e-05  9.99999997e-01\n",
            "   8.00000000e-06  1.00000000e+00  8.00000000e-07  1.00000000e+00]\n",
            " [ 4.12118485e-01 -9.11130262e-01  7.83326910e-01  6.21609968e-01\n",
            "   8.98785492e-02  9.95952733e-01  8.99987850e-03  9.99959500e-01\n",
            "   8.99999879e-04  9.99999595e-01  8.99999999e-05  9.99999996e-01\n",
            "   9.00000000e-06  1.00000000e+00  9.00000000e-07  1.00000000e+00]]\n"
          ]
        }
      ],
      "source": [
        "import numpy as np\n",
        "\n",
        "def positional_encoding(seq_len, d_model):\n",
        "    PE = np.zeros((seq_len, d_model))\n",
        "    for pos in range(seq_len):\n",
        "        for i in range(0, d_model, 2):\n",
        "            PE[pos, i] = np.sin(pos / (10000 ** ((2 * i)/d_model)))\n",
        "            PE[pos, i + 1] = np.cos(pos / (10000 ** ((2 * i)/d_model)))\n",
        "    return PE\n",
        "\n",
        "# Example with a short sentence (e.g., 10 tokens) and an embedding dimension of 16\n",
        "pe = positional_encoding(10, 16)\n",
        "print(\"Positional Encoding for a sequence of length 10:\")\n",
        "print(pe)"
      ]
    },
    {
      "cell_type": "markdown",
      "id": "8bac869f",
      "metadata": {
        "id": "8bac869f"
      },
      "source": [
        "## Embeddings\n",
        "### 💡 Concept\n",
        "Embeddings represent words, sentences, or documents as numerical vectors in a high-dimensional space where similar meanings are closer together."
      ]
    },
    {
      "cell_type": "markdown",
      "id": "e9619a54",
      "metadata": {
        "id": "e9619a54"
      },
      "source": [
        "### 📚 Traditional Methods before Transformers\n",
        "1. **Bag of Words (BoW):** Represents text as word frequency counts.\n",
        "2. **TF-IDF:** Weighs words based on frequency and importance.\n",
        "3. **Word2Vec / GloVe:** Learns word meanings through neural networks."
      ]
    },
    {
      "cell_type": "markdown",
      "source": [
        "🧩 Bag of Words (BoW):\n",
        "BoW converts text into numerical vectors by counting how many times each word appears in a document. It:\n",
        "\n",
        "Tokenizes text into words\n",
        "\n",
        "Builds a vocabulary of unique words from the corpus\n",
        "\n",
        "Represents each document as a vector of word counts (ignores grammar and word order)\n",
        "\n",
        "Example:\n",
        "[\"I love NLP\", \"NLP is fun\"] → vocabulary = [I, is, love, NLP, fun]\n",
        "Vectors = [[1,0,1,1,0], [0,1,0,1,1]]"
      ],
      "metadata": {
        "id": "PiOPPglFV7UX"
      },
      "id": "PiOPPglFV7UX"
    },
    {
      "cell_type": "markdown",
      "source": [
        "Disadvantages -\n",
        "\n",
        "High-dimensional & sparse (lots of zeros).\n",
        "\n",
        "No understanding of meaning or context."
      ],
      "metadata": {
        "id": "o-Mx7jNWWhMJ"
      },
      "id": "o-Mx7jNWWhMJ"
    },
    {
      "cell_type": "markdown",
      "source": [
        "Examples:\n",
        "\n",
        "Spam detection (\"buy now\", \"free offer\")\n",
        "\n",
        "Basic text classification (news categories, sentiment)\n",
        "\n",
        "Keyword extraction"
      ],
      "metadata": {
        "id": "hgauv1hSbaYZ"
      },
      "id": "hgauv1hSbaYZ"
    },
    {
      "cell_type": "code",
      "source": [
        "corpus = [\n",
        "    \"NLP is amazing for understanding text.\",\n",
        "    \"Machine learning and NLP are closely related.\",\n",
        "    \"Transformers have revolutionized NLP.\"\n",
        "]"
      ],
      "metadata": {
        "id": "ANxVrymUmbBY"
      },
      "id": "ANxVrymUmbBY",
      "execution_count": null,
      "outputs": []
    },
    {
      "cell_type": "code",
      "source": [
        "# BoW\n",
        "from sklearn.feature_extraction.text import CountVectorizer\n",
        "vectorizer = CountVectorizer()\n",
        "bow = vectorizer.fit_transform(corpus)\n",
        "print(\"BoW Feature Names:\", vectorizer.get_feature_names_out())\n",
        "print(bow.toarray())"
      ],
      "metadata": {
        "colab": {
          "base_uri": "https://localhost:8080/"
        },
        "id": "BO2ATmCsmcP4",
        "outputId": "77eebe78-f838-49c0-cbd6-100d687035c6"
      },
      "id": "BO2ATmCsmcP4",
      "execution_count": null,
      "outputs": [
        {
          "output_type": "stream",
          "name": "stdout",
          "text": [
            "BoW Feature Names: ['amazing' 'and' 'are' 'closely' 'for' 'have' 'is' 'learning' 'machine'\n",
            " 'nlp' 'related' 'revolutionized' 'text' 'transformers' 'understanding']\n",
            "[[1 0 0 0 1 0 1 0 0 1 0 0 1 0 1]\n",
            " [0 1 1 1 0 0 0 1 1 1 1 0 0 0 0]\n",
            " [0 0 0 0 0 1 0 0 0 1 0 1 0 1 0]]\n"
          ]
        }
      ]
    },
    {
      "cell_type": "markdown",
      "source": [
        "1. Term Frequency (TF)\n",
        "\n",
        "Measures how often a word appears in a single document.\n",
        "\n",
        "![image.png](data:image/png;base64,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)"
      ],
      "metadata": {
        "id": "qmPI0L2-Z98p"
      },
      "id": "qmPI0L2-Z98p"
    },
    {
      "cell_type": "markdown",
      "source": [
        "2. Inverse Document Frequency (IDF)\n",
        "\n",
        "Measures how unique or rare a word is across all documents.\n",
        "\n",
        "![image.png](data:image/png;base64,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)\n",
        "\n",
        "Where:\n",
        "\n",
        "N = total number of documents\n",
        "\n",
        "nw = number of documents containing the word"
      ],
      "metadata": {
        "id": "4O1Bqn17aDMg"
      },
      "id": "4O1Bqn17aDMg"
    },
    {
      "cell_type": "markdown",
      "source": [
        "Examples:\n",
        "\n",
        "Document similarity (plagiarism detection, duplicate detection)\n",
        "\n",
        "Feature input for classical ML models (Naive Bayes, SVM)"
      ],
      "metadata": {
        "id": "AfNmbIxQbgZ_"
      },
      "id": "AfNmbIxQbgZ_"
    },
    {
      "cell_type": "code",
      "execution_count": null,
      "id": "3cb4d7e7",
      "metadata": {
        "colab": {
          "base_uri": "https://localhost:8080/"
        },
        "id": "3cb4d7e7",
        "outputId": "9a3f1240-a471-4bef-da21-37c2f8ca2ee1"
      },
      "outputs": [
        {
          "output_type": "stream",
          "name": "stdout",
          "text": [
            "\n",
            "TF-IDF Feature Names: ['amazing' 'and' 'are' 'closely' 'for' 'have' 'is' 'learning' 'machine'\n",
            " 'nlp' 'related' 'revolutionized' 'text' 'transformers' 'understanding']\n",
            "[[0.43238509 0.         0.         0.         0.43238509 0.\n",
            "  0.43238509 0.         0.         0.2553736  0.         0.\n",
            "  0.43238509 0.         0.43238509]\n",
            " [0.         0.39687454 0.39687454 0.39687454 0.         0.\n",
            "  0.         0.39687454 0.39687454 0.2344005  0.39687454 0.\n",
            "  0.         0.         0.        ]\n",
            " [0.         0.         0.         0.         0.         0.54645401\n",
            "  0.         0.         0.         0.32274454 0.         0.54645401\n",
            "  0.         0.54645401 0.        ]]\n"
          ]
        }
      ],
      "source": [
        "# TF-IDF\n",
        "from sklearn.feature_extraction.text import TfidfVectorizer\n",
        "tfidf = TfidfVectorizer()\n",
        "tfidf_matrix = tfidf.fit_transform(corpus)\n",
        "print(\"\\nTF-IDF Feature Names:\", tfidf.get_feature_names_out())\n",
        "print(tfidf_matrix.toarray())\n"
      ]
    },
    {
      "cell_type": "markdown",
      "source": [
        "Word2Vec is a technique that converts words into dense, fixed-length vectors (embeddings) such that words with similar meanings have similar vectors.\n",
        "\n",
        "⚙️ How Word2Vec Works\n",
        "\n",
        "Word2Vec uses neural networks to learn word embeddings in two main models:\n",
        "\n",
        "1️⃣ CBOW (Continuous Bag of Words)\n",
        "\n",
        "Predicts a target word from its surrounding context words.\n",
        "\n",
        "Example:\n",
        "\n",
        "Sentence: \"The cat sits on the mat\"\n",
        "\n",
        "Target: \"sits\"\n",
        "Context: [\"The\", \"cat\", \"on\", \"the\", \"mat\"]\n",
        "\n",
        "Input → context word vectors\n",
        "\n",
        "Output → probability of target word\n",
        "\n",
        "Training → adjust embeddings so that words appearing in similar contexts have similar vectors\n",
        "\n",
        "2️⃣ Skip-Gram\n",
        "\n",
        "Opposite of CBOW: predicts context words from a target word.\n",
        "\n",
        "Example:\n",
        "\n",
        "Target: \"cat\"\n",
        "Context: [\"The\", \"sits\"]\n",
        "\n",
        "Input → target word vector\n",
        "\n",
        "Output → probability distribution over context words\n",
        "\n",
        "Works well for small datasets and captures rare words better\n",
        "\n",
        "🔹 Training Steps\n",
        "\n",
        "Initialize embeddings randomly for all words.\n",
        "\n",
        "For each word in the corpus, create training pairs:\n",
        "\n",
        "CBOW: context → target\n",
        "\n",
        "Skip-gram: target → context\n",
        "\n",
        "Train a shallow neural network (1 hidden layer) to predict outputs.\n",
        "\n",
        "After training, the hidden layer weights are the word embeddings."
      ],
      "metadata": {
        "id": "JWL1g_eNa8Ts"
      },
      "id": "JWL1g_eNa8Ts"
    },
    {
      "cell_type": "markdown",
      "source": [
        "Examples:\n",
        "\n",
        "Word similarity and analogy tasks\n",
        "\n",
        "Sentiment analysis (using embeddings as features)"
      ],
      "metadata": {
        "id": "ea8KY9CebowT"
      },
      "id": "ea8KY9CebowT"
    },
    {
      "cell_type": "code",
      "source": [
        "!pip install gensim"
      ],
      "metadata": {
        "id": "pkuNcw43QlUj"
      },
      "id": "pkuNcw43QlUj",
      "execution_count": null,
      "outputs": []
    },
    {
      "cell_type": "code",
      "execution_count": null,
      "id": "3afb927f",
      "metadata": {
        "colab": {
          "base_uri": "https://localhost:8080/"
        },
        "id": "3afb927f",
        "outputId": "5b96bb87-4a2f-4df6-9e40-21d8e8590fbb"
      },
      "outputs": [
        {
          "output_type": "stream",
          "name": "stdout",
          "text": [
            "Vector for 'nlp':\n",
            " [-1.0724545e-03  4.7286271e-04  1.0206699e-02  1.8018546e-02\n",
            " -1.8605899e-02 -1.4233618e-02  1.2917745e-02  1.7945977e-02\n",
            " -1.0030856e-02 -7.5267432e-03  1.4761009e-02 -3.0669428e-03\n",
            " -9.0732267e-03  1.3108104e-02 -9.7203208e-03 -3.6320353e-03\n",
            "  5.7531595e-03  1.9837476e-03 -1.6570430e-02 -1.8897636e-02\n",
            "  1.4623532e-02  1.0140524e-02  1.3515387e-02  1.5257311e-03\n",
            "  1.2701781e-02 -6.8107317e-03 -1.8928028e-03  1.1537147e-02\n",
            " -1.5043275e-02 -7.8722071e-03 -1.5023164e-02 -1.8600845e-03\n",
            "  1.9076237e-02 -1.4638334e-02 -4.6675373e-03 -3.8754821e-03\n",
            "  1.6154874e-02 -1.1861792e-02  9.0324880e-05 -9.5074680e-03\n",
            " -1.9207101e-02  1.0014586e-02 -1.7519170e-02 -8.7836506e-03\n",
            " -7.0199967e-05 -5.9236289e-04 -1.5322480e-02  1.9229487e-02\n",
            "  9.9641159e-03  1.8466286e-02]\n",
            "\n",
            "Most similar to 'nlp': [('amazing', 0.21057100594043732), ('text.', 0.16704076528549194), ('for', 0.150198832154274), ('are', 0.13204392790794373), ('revolutionized', 0.1267007291316986), ('learning', 0.0998455360531807), ('nlp.', 0.042373016476631165), ('understanding', 0.04067763686180115), ('related.', 0.012442179024219513), ('machine', -0.01259106956422329)]\n"
          ]
        }
      ],
      "source": [
        "from gensim.models import Word2Vec\n",
        "\n",
        "sentences = [s.lower().split() for s in corpus]\n",
        "w2v_model = Word2Vec(sentences, vector_size=50, window=3, min_count=1, workers=2)\n",
        "\n",
        "print(\"Vector for 'nlp':\\n\", w2v_model.wv['nlp'])\n",
        "print(\"\\nMost similar to 'nlp':\", w2v_model.wv.most_similar('nlp'))\n"
      ]
    },
    {
      "cell_type": "markdown",
      "id": "4cb3f216",
      "metadata": {
        "id": "4cb3f216"
      },
      "source": [
        "### 🚀 Modern Sentence Embeddings\n",
        "Transformer-based models like BERT and Sentence Transformers produce **contextual embeddings**, meaning word vectors depend on surrounding context.\n",
        "\n",
        "For example, the word *bank* has different embeddings in 'river bank' vs 'bank account'.\n"
      ]
    },
    {
      "cell_type": "code",
      "execution_count": null,
      "id": "acc4dd98",
      "metadata": {
        "colab": {
          "base_uri": "https://localhost:8080/"
        },
        "id": "acc4dd98",
        "outputId": "abec1c91-9333-4037-a532-11c17c274b70"
      },
      "outputs": [
        {
          "output_type": "stream",
          "name": "stdout",
          "text": [
            "Embedding shape: (3, 384)\n",
            "\n",
            "Similarity between first two sentences:\n",
            "[[0.5901931]]\n"
          ]
        }
      ],
      "source": [
        "from sentence_transformers import SentenceTransformer\n",
        "\n",
        "model = SentenceTransformer('all-MiniLM-L6-v2')\n",
        "sentences = [\"I love playing football.\", \"Soccer is a great sport.\", \"I enjoy coding.\"]\n",
        "embeddings = model.encode(sentences)\n",
        "\n",
        "print(\"Embedding shape:\", embeddings.shape)\n",
        "print(\"\\nSimilarity between first two sentences:\")\n",
        "from sklearn.metrics.pairwise import cosine_similarity\n",
        "print(cosine_similarity([embeddings[0]], [embeddings[1]]))\n"
      ]
    }
  ],
  "metadata": {
    "colab": {
      "provenance": []
    },
    "language_info": {
      "name": "python"
    },
    "kernelspec": {
      "name": "python3",
      "display_name": "Python 3"
    }
  },
  "nbformat": 4,
  "nbformat_minor": 5
}