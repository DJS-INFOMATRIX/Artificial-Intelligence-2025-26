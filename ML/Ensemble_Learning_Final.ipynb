{
  "cells": [
    {
      "cell_type": "markdown",
      "id": "9478974c",
      "metadata": {
        "id": "9478974c"
      },
      "source": [
        "\n",
        "# Ensemble Learning: Bagging and Boosting\n",
        "\n",
        "Ensemble learning is a technique that combines multiple models (often called \"weak learners\") to build a stronger, more accurate model. Instead of relying on a single algorithm, ensemble methods aggregate the predictions of many models to improve performance and robustness.\n",
        "\n",
        "In this notebook, we will explore **Bagging** and **Boosting**, two of the most popular ensemble methods. We’ll also apply them to **real datasets** for both **classification** and **regression** tasks, and compare their performance.\n"
      ]
    },
    {
      "cell_type": "markdown",
      "id": "9880a8c8",
      "metadata": {
        "id": "9880a8c8"
      },
      "source": [
        "\n",
        "## Bagging vs Boosting (Conceptual Explanation)\n",
        "\n",
        "**Bagging (Bootstrap Aggregating):**\n",
        "- Trains multiple models independently in parallel.\n",
        "- Each model is trained on a random sample of the dataset with replacement (bootstrapping).\n",
        "- Final prediction is made by majority voting (classification) or averaging (regression).\n",
        "- Helps to reduce variance and avoid overfitting.\n",
        "- Example: **Random Forest**.\n",
        "\n",
        "**Boosting:**\n",
        "- Trains models sequentially, where each new model tries to fix the errors of the previous one.\n",
        "- Focuses more on difficult-to-predict samples by assigning them higher weights.\n",
        "- Combines weak learners (often decision trees) into a strong model.\n",
        "- Helps reduce both bias and variance.\n",
        "- Examples: **AdaBoost, Gradient Boosting, XGBoost**.\n"
      ]
    },
    {
      "cell_type": "markdown",
      "id": "644c3f57",
      "metadata": {
        "id": "644c3f57"
      },
      "source": [
        "\n",
        "# Bagging\n",
        "\n",
        "## Random Forest\n",
        "\n",
        "**Theory:**\n",
        "- Random Forest is an ensemble of decision trees built using the Bagging technique.\n",
        "- Each tree is trained on a random subset of data with replacement (bootstrapping).\n",
        "- At each split, only a random subset of features is considered (feature randomness).\n",
        "- Final prediction is made by majority vote (classification) or averaging (regression).\n",
        "- Advantages:\n",
        "  - Handles high dimensional data well.\n",
        "  - Reduces overfitting compared to single decision trees.\n",
        "  - Robust and easy to use.\n"
      ]
    },
    {
      "cell_type": "code",
      "source": [
        "from sklearn.datasets import load_wine\n",
        "from sklearn.model_selection import train_test_split\n",
        "from sklearn.ensemble import RandomForestClassifier\n",
        "from sklearn.metrics import accuracy_score\n",
        "\n",
        "# Load dataset\n",
        "X, y = load_wine(return_X_y=True)\n",
        "X_train, X_test, y_train, y_test = train_test_split(X, y, test_size=0.3, random_state=42)"
      ],
      "metadata": {
        "id": "4e0ii6tyXvgG"
      },
      "id": "4e0ii6tyXvgG",
      "execution_count": null,
      "outputs": []
    },
    {
      "cell_type": "code",
      "execution_count": null,
      "id": "3387fa78",
      "metadata": {
        "colab": {
          "base_uri": "https://localhost:8080/"
        },
        "id": "3387fa78",
        "outputId": "123886ee-8b97-4620-b872-a05244426369"
      },
      "outputs": [
        {
          "output_type": "stream",
          "name": "stdout",
          "text": [
            "Random Forest Classification Accuracy: 1.0\n"
          ]
        }
      ],
      "source": [
        "# Train Random Forest Classifier\n",
        "rf_clf = RandomForestClassifier(n_estimators=100, random_state=42)\n",
        "rf_clf.fit(X_train, y_train)\n",
        "y_pred = rf_clf.predict(X_test)\n",
        "\n",
        "# Accuracy\n",
        "rf_clf_acc = accuracy_score(y_test, y_pred)\n",
        "print(\"Random Forest Classification Accuracy:\", rf_clf_acc)\n"
      ]
    },
    {
      "cell_type": "code",
      "execution_count": null,
      "id": "72ce4c0d",
      "metadata": {
        "id": "72ce4c0d",
        "outputId": "5e9312db-a898-490b-c11e-0b6b2cff2289",
        "colab": {
          "base_uri": "https://localhost:8080/"
        }
      },
      "outputs": [
        {
          "output_type": "stream",
          "name": "stdout",
          "text": [
            "Random Forest Regression RMSE: 0.25650512920799395\n",
            "Random Forest Regression R²: 0.8045734925119942\n"
          ]
        }
      ],
      "source": [
        "\n",
        "from sklearn.datasets import fetch_california_housing\n",
        "from sklearn.ensemble import RandomForestRegressor\n",
        "from sklearn.metrics import mean_squared_error, r2_score\n",
        "\n",
        "# Load dataset\n",
        "housing = fetch_california_housing()\n",
        "X, y = housing.data, housing.target\n",
        "X_train, X_test, y_train, y_test = train_test_split(X, y, test_size=0.3, random_state=42)\n",
        "\n",
        "# Train Random Forest Regressor\n",
        "rf_reg = RandomForestRegressor(n_estimators=100, random_state=42)\n",
        "rf_reg.fit(X_train, y_train)\n",
        "y_pred = rf_reg.predict(X_test)\n",
        "\n",
        "# Evaluation\n",
        "rf_reg_rmse = mean_squared_error(y_test, y_pred)\n",
        "rf_reg_r2 = r2_score(y_test, y_pred)\n",
        "\n",
        "print(\"Random Forest Regression RMSE:\", rf_reg_rmse)\n",
        "print(\"Random Forest Regression R²:\", rf_reg_r2)\n"
      ]
    },
    {
      "cell_type": "markdown",
      "id": "cd8228f4",
      "metadata": {
        "id": "cd8228f4"
      },
      "source": [
        "\n",
        "# Boosting\n",
        "\n",
        "## AdaBoost\n",
        "\n",
        "**Theory:**\n",
        "- AdaBoost (Adaptive Boosting) combines multiple weak learners (usually shallow decision trees).\n",
        "- Each new learner focuses more on the misclassified points from the previous learners.\n",
        "- Assigns weights to each observation and updates them after every iteration.\n",
        "- Final model is a weighted combination of all weak learners.\n",
        "- Works best with simple models that have high bias but low variance.\n"
      ]
    },
    {
      "cell_type": "markdown",
      "source": [
        "![](https://media.geeksforgeeks.org/wp-content/uploads/20210707140911/Boosting.png)"
      ],
      "metadata": {
        "id": "JyFKxLkBa852"
      },
      "id": "JyFKxLkBa852"
    },
    {
      "cell_type": "code",
      "execution_count": null,
      "id": "1b496eda",
      "metadata": {
        "id": "1b496eda",
        "outputId": "b4e38e70-24ed-4d5b-9cfd-7b94b241825e",
        "colab": {
          "base_uri": "https://localhost:8080/"
        }
      },
      "outputs": [
        {
          "output_type": "stream",
          "name": "stdout",
          "text": [
            "AdaBoost Classification Accuracy: 0.9814814814814815\n"
          ]
        }
      ],
      "source": [
        "from sklearn.ensemble import AdaBoostClassifier\n",
        "\n",
        "# Load wine dataset for classification (reload to ensure we have discrete classes)\n",
        "X, y = load_wine(return_X_y=True)\n",
        "X_train, X_test, y_train, y_test = train_test_split(X, y, test_size=0.3, random_state=42)\n",
        "\n",
        "# Train AdaBoost Classifier\n",
        "ada_clf = AdaBoostClassifier(n_estimators=100, random_state=42)\n",
        "ada_clf.fit(X_train, y_train)\n",
        "y_pred = ada_clf.predict(X_test)\n",
        "\n",
        "# Accuracy\n",
        "ada_clf_acc = accuracy_score(y_test, y_pred)\n",
        "print(\"AdaBoost Classification Accuracy:\", ada_clf_acc)"
      ]
    },
    {
      "cell_type": "code",
      "execution_count": null,
      "id": "c54638a0",
      "metadata": {
        "id": "c54638a0",
        "outputId": "0364b83c-65f4-492d-ccd2-461def67eb2f",
        "colab": {
          "base_uri": "https://localhost:8080/"
        }
      },
      "outputs": [
        {
          "output_type": "stream",
          "name": "stdout",
          "text": [
            "AdaBoost Regression RMSE: 0.0\n",
            "AdaBoost Regression R²: 1.0\n"
          ]
        }
      ],
      "source": [
        "from sklearn.ensemble import AdaBoostRegressor\n",
        "\n",
        "# Train AdaBoost Regressor\n",
        "ada_reg = AdaBoostRegressor(n_estimators=100, random_state=42)\n",
        "ada_reg.fit(X_train, y_train)\n",
        "y_pred = ada_reg.predict(X_test)\n",
        "\n",
        "# Evaluation\n",
        "ada_reg_rmse = mean_squared_error(y_test, y_pred)\n",
        "ada_reg_r2 = r2_score(y_test, y_pred)\n",
        "\n",
        "print(\"AdaBoost Regression RMSE:\", ada_reg_rmse)\n",
        "print(\"AdaBoost Regression R²:\", ada_reg_r2)\n"
      ]
    },
    {
      "cell_type": "markdown",
      "id": "c478cd55",
      "metadata": {
        "id": "c478cd55"
      },
      "source": [
        "\n",
        "## Gradient Boosting\n",
        "\n",
        "**Theory:**\n",
        "- Builds models sequentially, where each new model predicts the residual errors of the previous one.\n",
        "- Uses gradient descent to minimize the loss function.\n",
        "- Can optimize for different loss functions (squared error, logistic loss, etc.).\n",
        "- Stronger than AdaBoost in handling complex data but more prone to overfitting if not tuned properly.\n"
      ]
    },
    {
      "cell_type": "markdown",
      "source": [
        "![](https://media.geeksforgeeks.org/wp-content/uploads/20200721214745/gradientboosting.PNG)"
      ],
      "metadata": {
        "id": "yB3olfuiazm1"
      },
      "id": "yB3olfuiazm1"
    },
    {
      "cell_type": "code",
      "execution_count": null,
      "id": "bb1f0a19",
      "metadata": {
        "id": "bb1f0a19",
        "outputId": "8f23b974-2dc2-443b-dc90-ea08d2342a23",
        "colab": {
          "base_uri": "https://localhost:8080/"
        }
      },
      "outputs": [
        {
          "output_type": "stream",
          "name": "stdout",
          "text": [
            "Gradient Boosting Classification Accuracy: 0.9074074074074074\n"
          ]
        }
      ],
      "source": [
        "from sklearn.ensemble import GradientBoostingClassifier\n",
        "\n",
        "# Train Gradient Boosting Classifier\n",
        "gb_clf = GradientBoostingClassifier(n_estimators=100, random_state=42)\n",
        "gb_clf.fit(X_train, y_train)\n",
        "y_pred = gb_clf.predict(X_test)\n",
        "\n",
        "# Accuracy\n",
        "gb_clf_acc = accuracy_score(y_test, y_pred)\n",
        "print(\"Gradient Boosting Classification Accuracy:\", gb_clf_acc)\n"
      ]
    },
    {
      "cell_type": "code",
      "execution_count": null,
      "id": "841e1227",
      "metadata": {
        "id": "841e1227",
        "outputId": "ca1f742c-9db3-4792-c416-e2d8e395fa0f",
        "colab": {
          "base_uri": "https://localhost:8080/"
        }
      },
      "outputs": [
        {
          "output_type": "stream",
          "name": "stdout",
          "text": [
            "Gradient Boosting Regression RMSE: 0.11559078834181642\n",
            "Gradient Boosting Regression R²: 0.8081600803615614\n"
          ]
        }
      ],
      "source": [
        "\n",
        "from sklearn.ensemble import GradientBoostingRegressor\n",
        "\n",
        "# Train Gradient Boosting Regressor\n",
        "gb_reg = GradientBoostingRegressor(n_estimators=100, random_state=42)\n",
        "gb_reg.fit(X_train, y_train)\n",
        "y_pred = gb_reg.predict(X_test)\n",
        "\n",
        "# Evaluation\n",
        "gb_reg_rmse = mean_squared_error(y_test, y_pred)\n",
        "gb_reg_r2 = r2_score(y_test, y_pred)\n",
        "\n",
        "print(\"Gradient Boosting Regression RMSE:\", gb_reg_rmse)\n",
        "print(\"Gradient Boosting Regression R²:\", gb_reg_r2)\n"
      ]
    },
    {
      "cell_type": "markdown",
      "id": "cd29ae90",
      "metadata": {
        "id": "cd29ae90"
      },
      "source": [
        "\n",
        "## XGBoost\n",
        "\n",
        "**Theory:**\n",
        "- XGBoost (Extreme Gradient Boosting) is an optimized implementation of Gradient Boosting.\n",
        "- Uses advanced regularization (L1 and L2) to reduce overfitting.\n",
        "- Highly efficient and scalable for large datasets.\n",
        "- Supports parallel processing and missing value handling.\n",
        "- One of the most popular algorithms in Kaggle competitions.\n"
      ]
    },
    {
      "cell_type": "code",
      "execution_count": null,
      "id": "562ea1e0",
      "metadata": {
        "id": "562ea1e0",
        "outputId": "aa3a2077-b85a-43df-e6a8-3e16802e02cc",
        "colab": {
          "base_uri": "https://localhost:8080/"
        }
      },
      "outputs": [
        {
          "output_type": "stream",
          "name": "stdout",
          "text": [
            "XGBoost Classification Accuracy: 0.9629629629629629\n"
          ]
        }
      ],
      "source": [
        "from xgboost import XGBClassifier\n",
        "\n",
        "# Train XGBoost Classifier\n",
        "xgb_clf = XGBClassifier(n_estimators=100, random_state=42)\n",
        "xgb_clf.fit(X_train, y_train)\n",
        "y_pred = xgb_clf.predict(X_test)\n",
        "\n",
        "# Accuracy\n",
        "xgb_clf_acc = accuracy_score(y_test, y_pred)\n",
        "print(\"XGBoost Classification Accuracy:\", xgb_clf_acc)"
      ]
    },
    {
      "cell_type": "code",
      "execution_count": null,
      "id": "4d855451",
      "metadata": {
        "id": "4d855451",
        "outputId": "813a6cb1-79d6-409c-b482-1cc8b8db86e7",
        "colab": {
          "base_uri": "https://localhost:8080/"
        }
      },
      "outputs": [
        {
          "output_type": "stream",
          "name": "stdout",
          "text": [
            "XGBoost Regression RMSE: 0.14837633073329926\n",
            "XGBoost Regression R²: 0.7537477016448975\n"
          ]
        }
      ],
      "source": [
        "\n",
        "from xgboost import XGBRegressor\n",
        "\n",
        "# Train XGBoost Regressor\n",
        "xgb_reg = XGBRegressor(n_estimators=100, random_state=42)\n",
        "xgb_reg.fit(X_train, y_train)\n",
        "y_pred = xgb_reg.predict(X_test)\n",
        "\n",
        "# Evaluation\n",
        "xgb_reg_rmse = mean_squared_error(y_test, y_pred)\n",
        "xgb_reg_r2 = r2_score(y_test, y_pred)\n",
        "\n",
        "print(\"XGBoost Regression RMSE:\", xgb_reg_rmse)\n",
        "print(\"XGBoost Regression R²:\", xgb_reg_r2)\n"
      ]
    },
    {
      "cell_type": "markdown",
      "id": "01cddcbf",
      "metadata": {
        "id": "01cddcbf"
      },
      "source": [
        "\n",
        "# Model Performance Comparison\n"
      ]
    },
    {
      "cell_type": "code",
      "execution_count": null,
      "id": "3bdc8bba",
      "metadata": {
        "id": "3bdc8bba",
        "outputId": "54115e82-a32f-4ffb-dd68-32fe47f7aa24",
        "colab": {
          "base_uri": "https://localhost:8080/",
          "height": 452
        }
      },
      "outputs": [
        {
          "output_type": "display_data",
          "data": {
            "text/plain": [
              "<Figure size 640x480 with 1 Axes>"
            ],
            "image/png": "[encoded data removed]"
          },
          "metadata": {}
        }
      ],
      "source": [
        "\n",
        "import matplotlib.pyplot as plt\n",
        "\n",
        "# Classification results\n",
        "classifiers = ['Random Forest', 'AdaBoost', 'Gradient Boosting', 'XGBoost']\n",
        "acc_scores = [rf_clf_acc, ada_clf_acc, gb_clf_acc, xgb_clf_acc]\n",
        "\n",
        "plt.bar(classifiers, acc_scores)\n",
        "plt.ylabel(\"Accuracy\")\n",
        "plt.title(\"Classification Accuracy Comparison\")\n",
        "plt.show()\n"
      ]
    },
    {
      "cell_type": "code",
      "execution_count": null,
      "id": "9c259a68",
      "metadata": {
        "id": "9c259a68",
        "outputId": "8ad126a1-e3b8-44a7-d115-b3313435f094",
        "colab": {
          "base_uri": "https://localhost:8080/",
          "height": 468
        }
      },
      "outputs": [
        {
          "output_type": "display_data",
          "data": {
            "text/plain": [
              "<Figure size 1200x500 with 2 Axes>"
            ],
            "image/png": "[encoded data removed]"
          },
          "metadata": {}
        }
      ],
      "source": [
        "\n",
        "# Regression results\n",
        "regressors = ['Random Forest', 'AdaBoost', 'Gradient Boosting', 'XGBoost']\n",
        "rmse_scores = [rf_reg_rmse, ada_reg_rmse, gb_reg_rmse, xgb_reg_rmse]\n",
        "r2_scores = [rf_reg_r2, ada_reg_r2, gb_reg_r2, xgb_reg_r2]\n",
        "\n",
        "fig, ax = plt.subplots(1, 2, figsize=(12, 5))\n",
        "\n",
        "# RMSE comparison\n",
        "ax[0].bar(regressors, rmse_scores)\n",
        "ax[0].set_ylabel(\"RMSE\")\n",
        "ax[0].set_title(\"Regression RMSE Comparison\")\n",
        "\n",
        "# R² comparison\n",
        "ax[1].bar(regressors, r2_scores)\n",
        "ax[1].set_ylabel(\"R²\")\n",
        "ax[1].set_title(\"Regression R² Comparison\")\n",
        "\n",
        "plt.show()\n"
      ]
    },
    {
      "cell_type": "markdown",
      "id": "432d56ef",
      "metadata": {
        "id": "432d56ef"
      },
      "source": [
        "\n",
        "# Conclusion\n",
        "\n",
        "- **Bagging (Random Forest)** works well when the main issue is high variance.\n",
        "- **Boosting methods (AdaBoost, Gradient Boosting, XGBoost)** improve performance by reducing both bias and variance.\n",
        "- Among boosting techniques, **XGBoost** is generally the most powerful due to its efficiency and regularization features.\n",
        "- No single method is best for all problems — performance depends on dataset complexity, noise, and hyperparameter tuning.\n"
      ]
    }
  ],
  "metadata": {
    "colab": {
      "provenance": []
    },
    "kernelspec": {
      "display_name": "Python 3",
      "name": "python3"
    },
    "language_info": {
      "codemirror_mode": {
        "name": "ipython",
        "version": 3
      },
      "file_extension": ".py",
      "mimetype": "text/x-python",
      "name": "python",
      "nbconvert_exporter": "python",
      "pygments_lexer": "ipython3",
      "version": "3.13.3"
    }
  },
  "nbformat": 4,
  "nbformat_minor": 5
}