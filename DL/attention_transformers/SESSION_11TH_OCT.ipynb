{
 "cells": [
  {
   "cell_type": "markdown",
   "id": "c388bb1a",
   "metadata": {},
   "source": [
    "# Deep Learning Lecture: Attention Mechanisms and Transformers\n",
    "\n",
    "## Session Overview\n",
    "1. Attention Mechanisms\n",
    "2. Encoder-Decoder Architectures\n",
    "3. Transformers"
   ]
  },
  {
   "cell_type": "code",
   "execution_count": 1,
   "id": "df47b8b3",
   "metadata": {},
   "outputs": [
    {
     "name": "stdout",
     "output_type": "stream",
     "text": [
      "TensorFlow version: 2.20.0\n"
     ]
    }
   ],
   "source": [
    "# Import required libraries\n",
    "import numpy as np\n",
    "import tensorflow as tf\n",
    "from tensorflow import keras\n",
    "from tensorflow.keras import layers\n",
    "import matplotlib.pyplot as plt\n",
    "\n",
    "print(f\"TensorFlow version: {tf.__version__}\")"
   ]
  },
  {
   "cell_type": "markdown",
   "id": "92152373",
   "metadata": {},
   "source": [
    "---\n",
    "## 1. Attention Mechanisms\n",
    "\n",
    "### Theory\n",
    "\n",
    "**Concept:** Attention allows models to \"focus\" on relevant parts of input when processing sequences.\n",
    "\n",
    "**Problem with RNNs:** \n",
    "- Fixed-size context vector (bottleneck)\n",
    "- Information loss in long sequences\n",
    "\n",
    "**Solution - Attention:**\n",
    "- Computes weighted sum of all input states\n",
    "- Weights determined by relevance (alignment scores)\n",
    "\n",
    "**Key Components:**\n",
    "1. **Query (Q):** What we're looking for\n",
    "2. **Key (K):** What we're comparing against\n",
    "3. **Value (V):** What we actually retrieve\n",
    "\n",
    "**Formula:**\n",
    "```\n",
    "Attention(Q, K, V) = softmax(Q·K^T / √d_k) · V\n",
    "```\n",
    "\n",
    "**Benefits:**\n",
    "- Better long-range dependencies\n",
    "- Interpretable (can visualize attention weights)\n",
    "- Parallel computation"
   ]
  },
  {
   "cell_type": "code",
   "execution_count": 2,
   "id": "cbc3fcaa",
   "metadata": {},
   "outputs": [
    {
     "name": "stdout",
     "output_type": "stream",
     "text": [
      "Output shape: (1, 10, 64)\n",
      "Attention weights shape: (1, 10, 10)\n"
     ]
    }
   ],
   "source": [
    "# Simple Attention Mechanism Implementation\n",
    "\n",
    "class SimpleAttention(layers.Layer):\n",
    "    def __init__(self, units):\n",
    "        super(SimpleAttention, self).__init__()\n",
    "        self.W_query = layers.Dense(units)\n",
    "        self.W_key = layers.Dense(units)\n",
    "        self.W_value = layers.Dense(units)\n",
    "        \n",
    "    def call(self, query, key, value):\n",
    "        # Linear transformations\n",
    "        Q = self.W_query(query)\n",
    "        K = self.W_key(key)\n",
    "        V = self.W_value(value)\n",
    "        \n",
    "        # Attention scores\n",
    "        scores = tf.matmul(Q, K, transpose_b=True)\n",
    "        scores = scores / tf.math.sqrt(tf.cast(tf.shape(K)[-1], tf.float32))\n",
    "        \n",
    "        # Attention weights\n",
    "        weights = tf.nn.softmax(scores, axis=-1)\n",
    "        \n",
    "        # Weighted sum\n",
    "        output = tf.matmul(weights, V)\n",
    "        return output, weights\n",
    "\n",
    "# Example usage\n",
    "seq_len, d_model = 10, 64\n",
    "query = tf.random.normal((1, seq_len, d_model))\n",
    "key = tf.random.normal((1, seq_len, d_model))\n",
    "value = tf.random.normal((1, seq_len, d_model))\n",
    "\n",
    "attention_layer = SimpleAttention(units=64)\n",
    "output, weights = attention_layer(query, key, value)\n",
    "\n",
    "print(f\"Output shape: {output.shape}\")\n",
    "print(f\"Attention weights shape: {weights.shape}\")"
   ]
  },
  {
   "cell_type": "code",
   "execution_count": 3,
   "id": "96edf21b",
   "metadata": {},
   "outputs": [
    {
     "data": {
      "image/png": "[encoded data removed]",
      "text/plain": [
       "<Figure size 800x600 with 2 Axes>"
      ]
     },
     "metadata": {},
     "output_type": "display_data"
    }
   ],
   "source": [
    "# Visualize attention weights\n",
    "plt.figure(figsize=(8, 6))\n",
    "plt.imshow(weights[0].numpy(), cmap='viridis', aspect='auto')\n",
    "plt.colorbar()\n",
    "plt.xlabel('Key positions')\n",
    "plt.ylabel('Query positions')\n",
    "plt.title('Attention Weights Heatmap')\n",
    "plt.show()"
   ]
  },
  {
   "cell_type": "markdown",
   "id": "24ebccd0",
   "metadata": {},
   "source": [
    "---\n",
    "## 2. Encoder-Decoder Architectures\n",
    "\n",
    "### Theory\n",
    "\n",
    "**Purpose:** Transform input sequence to output sequence (sequence-to-sequence)\n",
    "\n",
    "**Architecture:**\n",
    "1. **Encoder:** Processes input sequence → creates context representation\n",
    "2. **Decoder:** Uses context → generates output sequence\n",
    "\n",
    "**Applications:**\n",
    "- Machine translation (English → French)\n",
    "- Text summarization (long text → summary)\n",
    "- Question answering (question → answer)\n",
    "\n",
    "**With Attention:**\n",
    "- Decoder attends to all encoder states (not just final state)\n",
    "- Better handling of long sequences"
   ]
  },
  {
   "cell_type": "code",
   "execution_count": 4,
   "id": "2f633516",
   "metadata": {},
   "outputs": [
    {
     "name": "stdout",
     "output_type": "stream",
     "text": [
      "Encoder output shape: (2, 10, 128)\n",
      "Decoder output shape: (2, 8, 5000)\n",
      "Attention weights shape: (2, 8, 10)\n"
     ]
    }
   ],
   "source": [
    "# Simple Encoder-Decoder with Attention (Pure Attention-based)\n",
    "\n",
    "class SimpleEncoder(layers.Layer):\n",
    "    def __init__(self, vocab_size, d_model):\n",
    "        super(SimpleEncoder, self).__init__()\n",
    "        self.embedding = layers.Embedding(vocab_size, d_model)\n",
    "        \n",
    "    def call(self, x):\n",
    "        # Just embed the input sequence\n",
    "        return self.embedding(x)\n",
    "\n",
    "class SimpleDecoder(layers.Layer):\n",
    "    def __init__(self, vocab_size, d_model):\n",
    "        super(SimpleDecoder, self).__init__()\n",
    "        self.embedding = layers.Embedding(vocab_size, d_model)\n",
    "        self.attention = SimpleAttention(d_model)\n",
    "        self.fc = layers.Dense(vocab_size)\n",
    "        \n",
    "    def call(self, x, encoder_output):\n",
    "        # Embed target sequence\n",
    "        x = self.embedding(x)\n",
    "        \n",
    "        # Attention: decoder queries encoder output\n",
    "        context, attn_weights = self.attention(x, encoder_output, encoder_output)\n",
    "        \n",
    "        # Predict output tokens\n",
    "        output = self.fc(context)\n",
    "        return output, attn_weights\n",
    "\n",
    "# Example: English to French translation\n",
    "vocab_size, d_model = 5000, 128\n",
    "encoder = SimpleEncoder(vocab_size, d_model)\n",
    "decoder = SimpleDecoder(vocab_size, d_model)\n",
    "\n",
    "# Dummy data\n",
    "input_seq = tf.random.uniform((2, 10), maxval=vocab_size, dtype=tf.int32)  # English\n",
    "target_seq = tf.random.uniform((2, 8), maxval=vocab_size, dtype=tf.int32)  # French\n",
    "\n",
    "enc_output = encoder(input_seq)\n",
    "dec_output, attn_weights = decoder(target_seq, enc_output)\n",
    "\n",
    "print(f\"Encoder output shape: {enc_output.shape}\")\n",
    "print(f\"Decoder output shape: {dec_output.shape}\")\n",
    "print(f\"Attention weights shape: {attn_weights.shape}\")"
   ]
  },
  {
   "cell_type": "markdown",
   "id": "fc04a649",
   "metadata": {},
   "source": [
    "---\n",
    "## 3. Transformers\n",
    "\n",
    "### Theory\n",
    "\n",
    "**Key Innovation:** Attention is all you need (no RNNs/CNNs)\n",
    "\n",
    "**Architecture:**\n",
    "- **Self-Attention:** Q, K, V all from same source  \n",
    "- **Multi-Head Attention:** Multiple attention in parallel\n",
    "- **Positional Encoding:** Sequence order information\n",
    "- **Feed-Forward Network:** Applied to each position\n",
    "\n",
    "**Advantages:**\n",
    "- Parallelism (fast training)\n",
    "- Long-range dependencies\n",
    "- Scalability"
   ]
  },
  {
   "cell_type": "markdown",
   "id": "a6b89c26",
   "metadata": {},
   "source": [
    "### 3.1 Self-Attention\n",
    "\n",
    "**Self-Attention:** Query, Key, Value all from the same source\n",
    "\n",
    "**Example:** \"The cat sat on the mat\"\n",
    "- Each word attends to all other words\n",
    "- Learns relationships: \"cat\" → \"sat\", \"sat\" → \"mat\""
   ]
  },
  {
   "cell_type": "code",
   "execution_count": 5,
   "id": "e430a7ed",
   "metadata": {},
   "outputs": [
    {
     "name": "stdout",
     "output_type": "stream",
     "text": [
      "Input shape: (1, 6, 64)\n",
      "Self-attention output shape: (1, 6, 64)\n",
      "Attention weights shape: (1, 6, 6)\n"
     ]
    }
   ],
   "source": [
    "# Self-Attention Example\n",
    "\n",
    "# Sentence: \"The cat sat on the mat\"\n",
    "sentence_length = 6\n",
    "d_model = 64\n",
    "\n",
    "# Simulate word embeddings\n",
    "sentence_embeddings = tf.random.normal((1, sentence_length, d_model))\n",
    "\n",
    "# Self-attention: Q, K, V all from same sentence\n",
    "self_attention = SimpleAttention(d_model)\n",
    "output, attention_weights = self_attention(\n",
    "    sentence_embeddings,  # Query\n",
    "    sentence_embeddings,  # Key\n",
    "    sentence_embeddings   # Value\n",
    ")\n",
    "\n",
    "print(f\"Input shape: {sentence_embeddings.shape}\")\n",
    "print(f\"Self-attention output shape: {output.shape}\")\n",
    "print(f\"Attention weights shape: {attention_weights.shape}\")"
   ]
  },
  {
   "cell_type": "code",
   "execution_count": 6,
   "id": "5552ccc4",
   "metadata": {},
   "outputs": [
    {
     "data": {
      "image/png": "[encoded data removed]",
      "text/plain": [
       "<Figure size 800x600 with 2 Axes>"
      ]
     },
     "metadata": {},
     "output_type": "display_data"
    },
    {
     "name": "stdout",
     "output_type": "stream",
     "text": [
      "\n",
      "Interpretation:\n",
      "- Diagonal: Each word attends to itself\n",
      "- Off-diagonal: Relationships between words\n",
      "- Brighter color = Higher attention weight\n"
     ]
    }
   ],
   "source": [
    "# Visualize Self-Attention\n",
    "\n",
    "words = [\"The\", \"cat\", \"sat\", \"on\", \"the\", \"mat\"]\n",
    "\n",
    "plt.figure(figsize=(8, 6))\n",
    "plt.imshow(attention_weights[0].numpy(), cmap='Blues', aspect='auto')\n",
    "plt.colorbar(label='Attention Weight')\n",
    "plt.xticks(range(len(words)), words, rotation=45)\n",
    "plt.yticks(range(len(words)), words)\n",
    "plt.xlabel('Attending to (Key)')\n",
    "plt.ylabel('From (Query)')\n",
    "plt.title('Self-Attention: Each word attends to all words')\n",
    "plt.tight_layout()\n",
    "plt.show()\n",
    "\n",
    "print(\"\\nInterpretation:\")\n",
    "print(\"- Diagonal: Each word attends to itself\")\n",
    "print(\"- Off-diagonal: Relationships between words\")\n",
    "print(\"- Brighter color = Higher attention weight\")"
   ]
  },
  {
   "cell_type": "markdown",
   "id": "165de6d7",
   "metadata": {},
   "source": [
    "### 3.2 Multi-Head Attention\n",
    "\n",
    "**Concept:** Run multiple attention operations in parallel\n",
    "\n",
    "**Why?** Each \"head\" learns different relationships:\n",
    "- Head 1: Grammatical relationships\n",
    "- Head 2: Semantic similarity\n",
    "- Head 3: Long-range dependencies\n",
    "- etc.\n",
    "\n",
    "**Process:**\n",
    "1. Split embeddings into multiple heads\n",
    "2. Run attention on each head independently\n",
    "3. Concatenate and project back"
   ]
  },
  {
   "cell_type": "code",
   "execution_count": null,
   "id": "89da9076",
   "metadata": {},
   "outputs": [
    {
     "name": "stdout",
     "output_type": "stream",
     "text": [
      "Multi-Head Attention output shape: (1, 6, 128)\n"
     ]
    }
   ],
   "source": [
    "# Multi-Head Attention\n",
    "\n",
    "class MultiHeadAttention(layers.Layer):\n",
    "    def __init__(self, d_model, num_heads):\n",
    "        super(MultiHeadAttention, self).__init__()\n",
    "        self.num_heads = num_heads\n",
    "        self.d_model = d_model\n",
    "        \n",
    "        assert d_model % num_heads == 0\n",
    "        self.depth = d_model // num_heads\n",
    "        \n",
    "        self.wq = layers.Dense(d_model)\n",
    "        self.wk = layers.Dense(d_model)\n",
    "        self.wv = layers.Dense(d_model)\n",
    "        self.dense = layers.Dense(d_model)\n",
    "        \n",
    "    def split_heads(self, x, batch_size):\n",
    "        x = tf.reshape(x, (batch_size, -1, self.num_heads, self.depth))\n",
    "        return tf.transpose(x, perm=[0, 2, 1, 3])\n",
    "    \n",
    "    def call(self, query, key, value):\n",
    "        batch_size = tf.shape(query)[0]\n",
    "        \n",
    "        # Linear projections\n",
    "        q = self.wq(query)\n",
    "        k = self.wk(key)\n",
    "        v = self.wv(value)\n",
    "        \n",
    "        # Split into multiple heads\n",
    "        q = self.split_heads(q, batch_size)\n",
    "        k = self.split_heads(k, batch_size)\n",
    "        v = self.split_heads(v, batch_size)\n",
    "        \n",
    "        # Scaled dot-product attention\n",
    "        matmul_qk = tf.matmul(q, k, transpose_b=True)\n",
    "        scaled_attention = matmul_qk / tf.math.sqrt(tf.cast(self.depth, tf.float32))\n",
    "        attention_weights = tf.nn.softmax(scaled_attention, axis=-1)\n",
    "        output = tf.matmul(attention_weights, v)\n",
    "        \n",
    "        # Concatenate heads\n",
    "        output = tf.transpose(output, perm=[0, 2, 1, 3])\n",
    "        concat_attention = tf.reshape(output, (batch_size, -1, self.d_model))\n",
    "        \n",
    "        # Final linear layer\n",
    "        output = self.dense(concat_attention)\n",
    "        return output\n",
    "\n",
    "# Test\n",
    "mha = MultiHeadAttention(d_model=128, num_heads=8)\n",
    "x = tf.random.normal((1, 6, 128))  # \"The cat sat on the mat\"\n",
    "output = mha(x, x, x)\n",
    "print(f\"Multi-Head Attention output shape: {output.shape}\")"
   ]
  },
  {
   "cell_type": "markdown",
   "id": "b8aea0df",
   "metadata": {},
   "source": [
    "### 3.3 Positional Encoding & Feed-Forward Network"
   ]
  },
  {
   "cell_type": "code",
   "execution_count": 8,
   "id": "7e20a7da",
   "metadata": {},
   "outputs": [
    {
     "name": "stdout",
     "output_type": "stream",
     "text": [
      "Positional encoding shape: (1, 6, 128)\n",
      "Feed-forward output shape: (1, 6, 128)\n"
     ]
    }
   ],
   "source": [
    "# Positional Encoding\n",
    "\n",
    "def positional_encoding(max_seq_len, d_model):\n",
    "    \"\"\"Add position information to embeddings\"\"\"\n",
    "    positions = np.arange(max_seq_len)[:, np.newaxis]\n",
    "    dims = np.arange(d_model)[np.newaxis, :]\n",
    "    \n",
    "    angles = positions / np.power(10000, (2 * (dims // 2)) / d_model)\n",
    "    \n",
    "    # Apply sin to even indices, cos to odd\n",
    "    angles[:, 0::2] = np.sin(angles[:, 0::2])\n",
    "    angles[:, 1::2] = np.cos(angles[:, 1::2])\n",
    "    \n",
    "    pos_encoding = angles[np.newaxis, ...]\n",
    "    return tf.cast(pos_encoding, dtype=tf.float32)\n",
    "\n",
    "# Feed-Forward Network\n",
    "\n",
    "def point_wise_feed_forward(d_model, dff):\n",
    "    \"\"\"Two dense layers with ReLU\"\"\"\n",
    "    return keras.Sequential([\n",
    "        layers.Dense(dff, activation='relu'),\n",
    "        layers.Dense(d_model)\n",
    "    ])\n",
    "\n",
    "# Test\n",
    "pos_enc = positional_encoding(6, 128)\n",
    "ffn = point_wise_feed_forward(128, 512)\n",
    "x = tf.random.normal((1, 6, 128))\n",
    "output = ffn(x)\n",
    "\n",
    "print(f\"Positional encoding shape: {pos_enc.shape}\")\n",
    "print(f\"Feed-forward output shape: {output.shape}\")"
   ]
  },
  {
   "cell_type": "markdown",
   "id": "7a6d8362",
   "metadata": {},
   "source": [
    "### 3.4 Transformer Encoder & Decoder"
   ]
  },
  {
   "cell_type": "code",
   "execution_count": 9,
   "id": "cb60644e",
   "metadata": {},
   "outputs": [
    {
     "name": "stdout",
     "output_type": "stream",
     "text": [
      "Encoder output shape: (1, 6, 128)\n"
     ]
    }
   ],
   "source": [
    "# Simple Transformer Encoder (using self-attention)\n",
    "\n",
    "class SimpleTransformerEncoder(layers.Layer):\n",
    "    def __init__(self, vocab_size, d_model, num_heads, dff):\n",
    "        super(SimpleTransformerEncoder, self).__init__()\n",
    "        \n",
    "        self.embedding = layers.Embedding(vocab_size, d_model)\n",
    "        self.pos_encoding = positional_encoding(100, d_model)\n",
    "        \n",
    "        # Self-attention\n",
    "        self.mha = MultiHeadAttention(d_model, num_heads)\n",
    "        self.ffn = point_wise_feed_forward(d_model, dff)\n",
    "        \n",
    "        self.layernorm1 = layers.LayerNormalization(epsilon=1e-6)\n",
    "        self.layernorm2 = layers.LayerNormalization(epsilon=1e-6)\n",
    "        \n",
    "    def call(self, x):\n",
    "        seq_len = tf.shape(x)[1]\n",
    "        \n",
    "        # Embedding + positional encoding\n",
    "        x = self.embedding(x)\n",
    "        x += self.pos_encoding[:, :seq_len, :]\n",
    "        \n",
    "        # Self-attention + residual + norm\n",
    "        attn_output = self.mha(x, x, x)\n",
    "        x = self.layernorm1(x + attn_output)\n",
    "        \n",
    "        # Feed-forward + residual + norm\n",
    "        ffn_output = self.ffn(x)\n",
    "        x = self.layernorm2(x + ffn_output)\n",
    "        \n",
    "        return x\n",
    "\n",
    "# Test\n",
    "vocab_size, d_model, num_heads, dff = 5000, 128, 8, 512\n",
    "encoder = SimpleTransformerEncoder(vocab_size, d_model, num_heads, dff)\n",
    "\n",
    "# Input: \"The cat sat on the mat\"\n",
    "input_seq = tf.random.uniform((1, 6), maxval=vocab_size, dtype=tf.int32)\n",
    "enc_output = encoder(input_seq)\n",
    "\n",
    "print(f\"Encoder output shape: {enc_output.shape}\")"
   ]
  },
  {
   "cell_type": "code",
   "execution_count": 10,
   "id": "32bfe17c",
   "metadata": {},
   "outputs": [
    {
     "name": "stdout",
     "output_type": "stream",
     "text": [
      "Decoder output shape: (1, 4, 128)\n"
     ]
    }
   ],
   "source": [
    "# Simple Transformer Decoder (with cross-attention)\n",
    "\n",
    "class SimpleTransformerDecoder(layers.Layer):\n",
    "    def __init__(self, vocab_size, d_model, num_heads, dff):\n",
    "        super(SimpleTransformerDecoder, self).__init__()\n",
    "        \n",
    "        self.embedding = layers.Embedding(vocab_size, d_model)\n",
    "        self.pos_encoding = positional_encoding(100, d_model)\n",
    "        \n",
    "        # Self-attention (decoder attends to itself)\n",
    "        self.mha1 = MultiHeadAttention(d_model, num_heads)\n",
    "        \n",
    "        # Cross-attention (decoder attends to encoder)\n",
    "        self.mha2 = MultiHeadAttention(d_model, num_heads)\n",
    "        \n",
    "        self.ffn = point_wise_feed_forward(d_model, dff)\n",
    "        \n",
    "        self.layernorm1 = layers.LayerNormalization(epsilon=1e-6)\n",
    "        self.layernorm2 = layers.LayerNormalization(epsilon=1e-6)\n",
    "        self.layernorm3 = layers.LayerNormalization(epsilon=1e-6)\n",
    "        \n",
    "    def call(self, x, encoder_output):\n",
    "        seq_len = tf.shape(x)[1]\n",
    "        \n",
    "        # Embedding + positional encoding\n",
    "        x = self.embedding(x)\n",
    "        x += self.pos_encoding[:, :seq_len, :]\n",
    "        \n",
    "        # Self-attention + residual + norm\n",
    "        attn1 = self.mha1(x, x, x)\n",
    "        x = self.layernorm1(x + attn1)\n",
    "        \n",
    "        # Cross-attention to encoder + residual + norm\n",
    "        attn2 = self.mha2(x, encoder_output, encoder_output)\n",
    "        x = self.layernorm2(x + attn2)\n",
    "        \n",
    "        # Feed-forward + residual + norm\n",
    "        ffn_output = self.ffn(x)\n",
    "        x = self.layernorm3(x + ffn_output)\n",
    "        \n",
    "        return x\n",
    "\n",
    "# Test\n",
    "decoder = SimpleTransformerDecoder(vocab_size, d_model, num_heads, dff)\n",
    "\n",
    "# Target: \"Le chat était assis\"\n",
    "target_seq = tf.random.uniform((1, 4), maxval=vocab_size, dtype=tf.int32)\n",
    "dec_output = decoder(target_seq, enc_output)\n",
    "\n",
    "print(f\"Decoder output shape: {dec_output.shape}\")"
   ]
  },
  {
   "cell_type": "markdown",
   "id": "375c1049",
   "metadata": {},
   "source": [
    "### 3.5 Complete Transformer"
   ]
  },
  {
   "cell_type": "code",
   "execution_count": 12,
   "id": "481bf77a",
   "metadata": {},
   "outputs": [
    {
     "name": "stdout",
     "output_type": "stream",
     "text": [
      "\n",
      "=== Complete Transformer ===\n",
      "Input (English): (1, 6)\n",
      "Target (French): (1, 4)\n",
      "Predictions: (1, 4, 5000)\n"
     ]
    }
   ],
   "source": [
    "# Complete Transformer (Encoder + Decoder)\n",
    "\n",
    "class Transformer(keras.Model):\n",
    "    def __init__(self, vocab_size, d_model, num_heads, dff):\n",
    "        super(Transformer, self).__init__()\n",
    "        \n",
    "        self.encoder = SimpleTransformerEncoder(vocab_size, d_model, num_heads, dff)\n",
    "        self.decoder = SimpleTransformerDecoder(vocab_size, d_model, num_heads, dff)\n",
    "        self.final_layer = layers.Dense(vocab_size)\n",
    "        \n",
    "    def call(self, inputs, targets):\n",
    "        # Encode input\n",
    "        enc_output = self.encoder(inputs)\n",
    "        \n",
    "        # Decode with cross-attention to encoder\n",
    "        dec_output = self.decoder(targets, enc_output)\n",
    "        \n",
    "        # Project to vocabulary\n",
    "        final_output = self.final_layer(dec_output)\n",
    "        \n",
    "        return final_output\n",
    "\n",
    "# Test complete transformer\n",
    "transformer = Transformer(vocab_size=5000, d_model=128, num_heads=8, dff=512)\n",
    "\n",
    "# English: \"The cat sat on the mat\"\n",
    "input_seq = tf.random.uniform((1, 6), maxval=5000, dtype=tf.int32)\n",
    "\n",
    "# French: \"Le chat était assis\"\n",
    "target_seq = tf.random.uniform((1, 4), maxval=5000, dtype=tf.int32)\n",
    "\n",
    "predictions = transformer(input_seq, target_seq)\n",
    "\n",
    "print(f\"\\n=== Complete Transformer ===\")\n",
    "print(f\"Input (English): {input_seq.shape}\")\n",
    "print(f\"Target (French): {target_seq.shape}\")\n",
    "print(f\"Predictions: {predictions.shape}\")"
   ]
  },
  {
   "cell_type": "code",
   "execution_count": 16,
   "id": "e9d26ee8",
   "metadata": {},
   "outputs": [
    {
     "data": {
      "text/plain": [
       "array([2081,  309, 3275, 3547, 1002, 3843], dtype=int32)"
      ]
     },
     "execution_count": 16,
     "metadata": {},
     "output_type": "execute_result"
    }
   ],
   "source": [
    "input_seq[0, :].numpy()"
   ]
  },
  {
   "cell_type": "code",
   "execution_count": 15,
   "id": "ec0633b8",
   "metadata": {},
   "outputs": [
    {
     "data": {
      "text/plain": [
       "array([3251, 2111, 3879, 2231], dtype=int32)"
      ]
     },
     "execution_count": 15,
     "metadata": {},
     "output_type": "execute_result"
    }
   ],
   "source": [
    "target_seq[0, :].numpy()"
   ]
  },
  {
   "cell_type": "markdown",
   "id": "efa5d8f1",
   "metadata": {},
   "source": [
    "### 3.6 Summary\n",
    "\n",
    "**Transformer Architecture:**\n",
    "\n",
    "1. **Encoder:**\n",
    "   - Embedding + Positional Encoding\n",
    "   - Multi-Head Self-Attention\n",
    "   - Feed-Forward Network\n",
    "   - Layer Norm + Residuals\n",
    "\n",
    "2. **Decoder:**\n",
    "   - Embedding + Positional Encoding\n",
    "   - Multi-Head Self-Attention (masked)\n",
    "   - Multi-Head Cross-Attention (to encoder)\n",
    "   - Feed-Forward Network\n",
    "   - Layer Norm + Residuals\n",
    "\n",
    "**Key Innovations:**\n",
    "- No RNNs/CNNs - pure attention\n",
    "- Parallel processing\n",
    "- Long-range dependencies\n",
    "- Scalable to large datasets\n",
    "\n",
    "**Applications:**\n",
    "- Machine translation\n",
    "- Text summarization\n",
    "- Question answering\n",
    "- Language models (GPT, BERT)\n",
    "- Vision (ViT)"
   ]
  }
 ],
 "metadata": {
  "kernelspec": {
   "display_name": "Python 3",
   "language": "python",
   "name": "python3"
  },
  "language_info": {
   "codemirror_mode": {
    "name": "ipython",
    "version": 3
   },
   "file_extension": ".py",
   "mimetype": "text/x-python",
   "name": "python",
   "nbconvert_exporter": "python",
   "pygments_lexer": "ipython3",
   "version": "3.13.7"
  }
 },
 "nbformat": 4,
 "nbformat_minor": 5
}
